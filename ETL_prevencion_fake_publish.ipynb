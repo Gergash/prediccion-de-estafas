{
 "cells": [
  {
   "cell_type": "code",
   "execution_count": 4,
   "metadata": {},
   "outputs": [],
   "source": [
    "\n"
   ]
  },
  {
   "cell_type": "code",
   "execution_count": 5,
   "metadata": {},
   "outputs": [
    {
     "name": "stdout",
     "output_type": "stream",
     "text": [
      "      clase                                            mensaje\n",
      "0     False  Mean beyond these manage chair song meet. Bene...\n",
      "1      True       Whether police economy never research leave.\n",
      "2      True  Subject conference no hand soon consider road ...\n",
      "3      True       Agreement television now prove political TV.\n",
      "4      True  Capital hotel garden anything wish spend away ...\n",
      "...     ...                                                ...\n",
      "2995   True  Window son job guess campaign table technology...\n",
      "2996  False  Detail still happen son almost expect get. Pro...\n",
      "2997  False  Street within structure good. Before least wes...\n",
      "2998   True  Three hundred plan perhaps have positive whate...\n",
      "2999   True  Lot property participant military radio specif...\n",
      "\n",
      "[3000 rows x 2 columns]\n"
     ]
    }
   ],
   "source": []
  },
  {
   "cell_type": "code",
   "execution_count": 6,
   "metadata": {},
   "outputs": [],
   "source": []
  },
  {
   "cell_type": "code",
   "execution_count": 8,
   "metadata": {},
   "outputs": [],
   "source": []
  },
  {
   "cell_type": "code",
   "execution_count": 10,
   "metadata": {},
   "outputs": [
    {
     "name": "stderr",
     "output_type": "stream",
     "text": [
      "[nltk_data] Downloading package punkt to\n",
      "[nltk_data]     C:\\Users\\isabe\\AppData\\Roaming\\nltk_data...\n",
      "[nltk_data]   Unzipping tokenizers\\punkt.zip.\n"
     ]
    },
    {
     "data": {
      "text/plain": [
       "True"
      ]
     },
     "execution_count": 10,
     "metadata": {},
     "output_type": "execute_result"
    }
   ],
   "source": []
  },
  {
   "cell_type": "code",
   "execution_count": 11,
   "metadata": {},
   "outputs": [],
   "source": []
  },
  {
   "cell_type": "code",
   "execution_count": 12,
   "metadata": {},
   "outputs": [
    {
     "name": "stdout",
     "output_type": "stream",
     "text": [
      "      clase                                            mensaje  \\\n",
      "0     False  Mean beyond these manage chair song meet. Bene...   \n",
      "1      True       Whether police economy never research leave.   \n",
      "2      True  Subject conference no hand soon consider road ...   \n",
      "3      True       Agreement television now prove political TV.   \n",
      "4      True  Capital hotel garden anything wish spend away ...   \n",
      "...     ...                                                ...   \n",
      "2995   True  Window son job guess campaign table technology...   \n",
      "2996  False  Detail still happen son almost expect get. Pro...   \n",
      "2997  False  Street within structure good. Before least wes...   \n",
      "2998   True  Three hundred plan perhaps have positive whate...   \n",
      "2999   True  Lot property participant military radio specif...   \n",
      "\n",
      "                                                 tokens  \n",
      "0     [Mean, beyond, these, manage, chair, song, mee...  \n",
      "1     [Whether, police, economy, never, research, le...  \n",
      "2     [Subject, conference, no, hand, soon, consider...  \n",
      "3     [Agreement, television, now, prove, political,...  \n",
      "4     [Capital, hotel, garden, anything, wish, spend...  \n",
      "...                                                 ...  \n",
      "2995  [Window, son, job, guess, campaign, table, tec...  \n",
      "2996  [Detail, still, happen, son, almost, expect, g...  \n",
      "2997  [Street, within, structure, good, Before, leas...  \n",
      "2998  [Three, hundred, plan, perhaps, have, positive...  \n",
      "2999  [Lot, property, participant, military, radio, ...  \n",
      "\n",
      "[3000 rows x 3 columns]\n"
     ]
    }
   ],
   "source": []
  },
  {
   "cell_type": "code",
   "execution_count": 13,
   "metadata": {},
   "outputs": [],
   "source": []
  },
  {
   "cell_type": "code",
   "execution_count": 14,
   "metadata": {},
   "outputs": [
    {
     "name": "stderr",
     "output_type": "stream",
     "text": [
      "[nltk_data] Downloading package stopwords to\n",
      "[nltk_data]     C:\\Users\\isabe\\AppData\\Roaming\\nltk_data...\n",
      "[nltk_data]   Unzipping corpora\\stopwords.zip.\n"
     ]
    }
   ],
   "source": []
  },
  {
   "cell_type": "code",
   "execution_count": 15,
   "metadata": {},
   "outputs": [
    {
     "data": {
      "text/html": [
       "<div>\n",
       "<style scoped>\n",
       "    .dataframe tbody tr th:only-of-type {\n",
       "        vertical-align: middle;\n",
       "    }\n",
       "\n",
       "    .dataframe tbody tr th {\n",
       "        vertical-align: top;\n",
       "    }\n",
       "\n",
       "    .dataframe thead th {\n",
       "        text-align: right;\n",
       "    }\n",
       "</style>\n",
       "<table border=\"1\" class=\"dataframe\">\n",
       "  <thead>\n",
       "    <tr style=\"text-align: right;\">\n",
       "      <th></th>\n",
       "      <th>clase</th>\n",
       "      <th>mensaje</th>\n",
       "      <th>tokens</th>\n",
       "    </tr>\n",
       "  </thead>\n",
       "  <tbody>\n",
       "    <tr>\n",
       "      <th>0</th>\n",
       "      <td>False</td>\n",
       "      <td>Mean beyond these manage chair song meet. Bene...</td>\n",
       "      <td>[Mean, beyond, manage, chair, song, meet, Bene...</td>\n",
       "    </tr>\n",
       "    <tr>\n",
       "      <th>1</th>\n",
       "      <td>True</td>\n",
       "      <td>Whether police economy never research leave.</td>\n",
       "      <td>[Whether, police, economy, never, research, le...</td>\n",
       "    </tr>\n",
       "    <tr>\n",
       "      <th>2</th>\n",
       "      <td>True</td>\n",
       "      <td>Subject conference no hand soon consider road ...</td>\n",
       "      <td>[Subject, conference, hand, soon, consider, ro...</td>\n",
       "    </tr>\n",
       "    <tr>\n",
       "      <th>3</th>\n",
       "      <td>True</td>\n",
       "      <td>Agreement television now prove political TV.</td>\n",
       "      <td>[Agreement, television, prove, political, TV]</td>\n",
       "    </tr>\n",
       "    <tr>\n",
       "      <th>4</th>\n",
       "      <td>True</td>\n",
       "      <td>Capital hotel garden anything wish spend away ...</td>\n",
       "      <td>[Capital, hotel, garden, anything, wish, spend...</td>\n",
       "    </tr>\n",
       "    <tr>\n",
       "      <th>...</th>\n",
       "      <td>...</td>\n",
       "      <td>...</td>\n",
       "      <td>...</td>\n",
       "    </tr>\n",
       "    <tr>\n",
       "      <th>2995</th>\n",
       "      <td>True</td>\n",
       "      <td>Window son job guess campaign table technology...</td>\n",
       "      <td>[Window, son, job, guess, campaign, table, tec...</td>\n",
       "    </tr>\n",
       "    <tr>\n",
       "      <th>2996</th>\n",
       "      <td>False</td>\n",
       "      <td>Detail still happen son almost expect get. Pro...</td>\n",
       "      <td>[Detail, still, happen, son, almost, expect, g...</td>\n",
       "    </tr>\n",
       "    <tr>\n",
       "      <th>2997</th>\n",
       "      <td>False</td>\n",
       "      <td>Street within structure good. Before least wes...</td>\n",
       "      <td>[Street, within, structure, good, least, west,...</td>\n",
       "    </tr>\n",
       "    <tr>\n",
       "      <th>2998</th>\n",
       "      <td>True</td>\n",
       "      <td>Three hundred plan perhaps have positive whate...</td>\n",
       "      <td>[Three, hundred, plan, perhaps, positive, what...</td>\n",
       "    </tr>\n",
       "    <tr>\n",
       "      <th>2999</th>\n",
       "      <td>True</td>\n",
       "      <td>Lot property participant military radio specif...</td>\n",
       "      <td>[Lot, property, participant, military, radio, ...</td>\n",
       "    </tr>\n",
       "  </tbody>\n",
       "</table>\n",
       "<p>3000 rows × 3 columns</p>\n",
       "</div>"
      ],
      "text/plain": [
       "      clase                                            mensaje  \\\n",
       "0     False  Mean beyond these manage chair song meet. Bene...   \n",
       "1      True       Whether police economy never research leave.   \n",
       "2      True  Subject conference no hand soon consider road ...   \n",
       "3      True       Agreement television now prove political TV.   \n",
       "4      True  Capital hotel garden anything wish spend away ...   \n",
       "...     ...                                                ...   \n",
       "2995   True  Window son job guess campaign table technology...   \n",
       "2996  False  Detail still happen son almost expect get. Pro...   \n",
       "2997  False  Street within structure good. Before least wes...   \n",
       "2998   True  Three hundred plan perhaps have positive whate...   \n",
       "2999   True  Lot property participant military radio specif...   \n",
       "\n",
       "                                                 tokens  \n",
       "0     [Mean, beyond, manage, chair, song, meet, Bene...  \n",
       "1     [Whether, police, economy, never, research, le...  \n",
       "2     [Subject, conference, hand, soon, consider, ro...  \n",
       "3         [Agreement, television, prove, political, TV]  \n",
       "4     [Capital, hotel, garden, anything, wish, spend...  \n",
       "...                                                 ...  \n",
       "2995  [Window, son, job, guess, campaign, table, tec...  \n",
       "2996  [Detail, still, happen, son, almost, expect, g...  \n",
       "2997  [Street, within, structure, good, least, west,...  \n",
       "2998  [Three, hundred, plan, perhaps, positive, what...  \n",
       "2999  [Lot, property, participant, military, radio, ...  \n",
       "\n",
       "[3000 rows x 3 columns]"
      ]
     },
     "execution_count": 15,
     "metadata": {},
     "output_type": "execute_result"
    }
   ],
   "source": []
  },
  {
   "cell_type": "code",
   "execution_count": null,
   "metadata": {},
   "outputs": [],
   "source": []
  }
 ],
 "metadata": {
  "kernelspec": {
   "display_name": "Python 3",
   "language": "python",
   "name": "python3"
  },
  "language_info": {
   "codemirror_mode": {
    "name": "ipython",
    "version": 3
   },
   "file_extension": ".py",
   "mimetype": "text/x-python",
   "name": "python",
   "nbconvert_exporter": "python",
   "pygments_lexer": "ipython3",
   "version": "3.8.5"
  }
 },
 "nbformat": 4,
 "nbformat_minor": 4
}
